{
 "cells": [
  {
   "cell_type": "markdown",
   "id": "77923fbe",
   "metadata": {},
   "source": [
    "# Import Data & Convert"
   ]
  },
  {
   "cell_type": "markdown",
   "id": "16588bf6",
   "metadata": {},
   "source": []
  }
 ],
 "metadata": {
  "kernelspec": {
   "display_name": "Python 3.9.7 ('base')",
   "language": "python",
   "name": "python3"
  },
  "language_info": {
   "codemirror_mode": {
    "name": "ipython",
    "version": 3
   },
   "file_extension": ".py",
   "mimetype": "text/x-python",
   "name": "python",
   "nbconvert_exporter": "python",
   "pygments_lexer": "ipython3",
   "version": "3.9.7"
  },
  "vscode": {
   "interpreter": {
    "hash": "f1e220e357445836402dc3051b6e73f8807b0d2d9a8ef58cec3298c934ea7d9a"
   }
  }
 },
 "nbformat": 4,
 "nbformat_minor": 5
}
