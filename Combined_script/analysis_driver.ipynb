{
 "cells": [
  {
   "cell_type": "markdown",
   "id": "77923fbe",
   "metadata": {},
   "source": [
    "## PsychoPy data"
   ]
  },
  {
   "cell_type": "markdown",
   "id": "6b667cd7",
   "metadata": {},
   "source": [
    "### [1] Import & Preprocess"
   ]
  },
  {
   "cell_type": "code",
   "execution_count": 1,
   "id": "6da06b19",
   "metadata": {},
   "outputs": [],
   "source": [
    "import numpy as np\n",
    "import seaborn as sns\n",
    "import matplotlib.pyplot as plt\n",
    "import pandas as pd\n",
    "\n",
    "import processor as pr\n",
    "\n",
    "import force_analyzer as fa"
   ]
  },
  {
   "cell_type": "code",
   "execution_count": 2,
   "id": "fd7e0599",
   "metadata": {},
   "outputs": [],
   "source": [
    "# read in the data\n",
    "    #Matt's data\n",
    "psychopy_data_M = pd.read_csv(\"Data/657_Prime-Probe_2022-10-25_18h18.22.999.csv\")\n",
    "    #Hannah's data\n",
    "psychopy_data_H = pd.read_csv(\"Data/py_data_test.csv\")"
   ]
  },
  {
   "cell_type": "code",
   "execution_count": 4,
   "id": "5615eb86",
   "metadata": {},
   "outputs": [],
   "source": [
    "psychopy_data_K = pr.psypy_reduce(pd.read_csv(\"Data/384_Prime-Probe_2022-11-02_13h08.55.121.csv\"))"
   ]
  },
  {
   "cell_type": "code",
   "execution_count": 3,
   "id": "6b997797",
   "metadata": {},
   "outputs": [],
   "source": [
    "# reduce data & add the previous accuracy\n",
    "psychopy_data_M = pr.psypy_reduce(psychopy_data_M)\n",
    "psychopy_data_H = pr.psypy_reduce(psychopy_data_H)"
   ]
  },
  {
   "cell_type": "markdown",
   "id": "1fcb8ec8",
   "metadata": {},
   "source": [
    "### [2] Compute Sn & Label Median distance & Outlier"
   ]
  },
  {
   "cell_type": "code",
   "execution_count": null,
   "id": "85e77442",
   "metadata": {},
   "outputs": [],
   "source": [
    "\"\"\"\n",
    "psychopy_data_M, sn_all_M, sn_all_all_M = pr.compute_sn_all(psychopy_data_M)\n",
    "psychopy_data_H, sn_all_H, sn_all_all_H = pr.compute_sn_all(psychopy_data_H)\n",
    "\"\"\"\n",
    "psychopy_data_K, sn_all_K, sn_all_all_K = pr.compute_sn_all(psychopy_data_K)\n",
    "print(sn_all_K)"
   ]
  },
  {
   "cell_type": "code",
   "execution_count": null,
   "id": "4943f5f3",
   "metadata": {},
   "outputs": [],
   "source": [
    "ful_data_M= pr.identify_outliers(psychopy_data_M, False)\n",
    "#ful_data_M.to_csv('psychpyfull_M.csv')\n",
    "ful_data_H= pr.identify_outliers(psychopy_data_H, False)"
   ]
  },
  {
   "cell_type": "markdown",
   "id": "06bff98b",
   "metadata": {},
   "source": [
    "### [4] Get statistics"
   ]
  },
  {
   "cell_type": "code",
   "execution_count": 10,
   "id": "0b77483f",
   "metadata": {},
   "outputs": [
    {
     "name": "stdout",
     "output_type": "stream",
     "text": [
      "{'cC': 0.0, 'cI': 0.0, 'iC': 0.0, 'iI': 0.0}\n"
     ]
    }
   ],
   "source": [
    "print(pr.get_error_rate(ful_data_H))"
   ]
  },
  {
   "cell_type": "code",
   "execution_count": 12,
   "id": "30d86847",
   "metadata": {},
   "outputs": [
    {
     "data": {
      "text/plain": [
       "0.982639"
      ]
     },
     "execution_count": 12,
     "metadata": {},
     "output_type": "execute_result"
    }
   ],
   "source": [
    "pr.get_overall_accuracy(ful_data_H)"
   ]
  },
  {
   "cell_type": "code",
   "execution_count": 13,
   "id": "87fb0480",
   "metadata": {},
   "outputs": [
    {
     "data": {
      "text/plain": [
       "0.040123"
      ]
     },
     "execution_count": 13,
     "metadata": {},
     "output_type": "execute_result"
    }
   ],
   "source": [
    "pr.get_total_percent_outliers(ful_data_M)"
   ]
  },
  {
   "cell_type": "markdown",
   "id": "50d7cc2c",
   "metadata": {},
   "source": [
    "# Group Analysis for Force"
   ]
  },
  {
   "cell_type": "code",
   "execution_count": null,
   "id": "6e97d1e7",
   "metadata": {},
   "outputs": [],
   "source": [
    "fa.folder_select()"
   ]
  },
  {
   "cell_type": "code",
   "execution_count": null,
   "id": "d81cd796",
   "metadata": {},
   "outputs": [],
   "source": [
    "fa.multiple_files_select([\"19_Prime-Probe_2022-11-10_12h03.02.739.csv\"],[\"19_pressure-data.csv\"], \"compare\")"
   ]
  },
  {
   "cell_type": "code",
   "execution_count": null,
   "id": "11aa6604",
   "metadata": {},
   "outputs": [],
   "source": [
    "fa.multiple_files_select([\"657_Prime-Probe_2022-10-25_18h18.22.999.csv\"],[\"657_pressure-data.csv\"], \"test2\")"
   ]
  }
 ],
 "metadata": {
  "kernelspec": {
   "display_name": "Python 3.9.7 ('base')",
   "language": "python",
   "name": "python3"
  },
  "language_info": {
   "codemirror_mode": {
    "name": "ipython",
    "version": 3
   },
   "file_extension": ".py",
   "mimetype": "text/x-python",
   "name": "python",
   "nbconvert_exporter": "python",
   "pygments_lexer": "ipython3",
   "version": "3.9.7"
  },
  "vscode": {
   "interpreter": {
    "hash": "f1e220e357445836402dc3051b6e73f8807b0d2d9a8ef58cec3298c934ea7d9a"
   }
  }
 },
 "nbformat": 4,
 "nbformat_minor": 5
}
