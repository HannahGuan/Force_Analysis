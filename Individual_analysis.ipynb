{
 "cells": [
  {
   "cell_type": "markdown",
   "id": "77923fbe",
   "metadata": {},
   "source": [
    "### [1] Import & Preprocess"
   ]
  },
  {
   "cell_type": "code",
   "execution_count": 51,
   "id": "6da06b19",
   "metadata": {},
   "outputs": [],
   "source": [
    "import numpy as np\n",
    "import seaborn as sns\n",
    "import matplotlib as plt\n",
    "import pandas as pd\n",
    "\n",
    "import processor as pr"
   ]
  },
  {
   "cell_type": "code",
   "execution_count": 52,
   "id": "fd7e0599",
   "metadata": {},
   "outputs": [],
   "source": [
    "# read in the data\n",
    "force_data = pd.read_csv(\"Force90000_pressure-data.csv\")\n",
    "psychopy_data = pd.read_csv(\"90000_Prime-Probe_2022-09-14_09h48.37.147.csv\")"
   ]
  },
  {
   "cell_type": "code",
   "execution_count": 53,
   "id": "6b997797",
   "metadata": {},
   "outputs": [],
   "source": [
    "# reduce data & add the previous accuracy\n",
    "psychopy_data = pr.psypy_reduce(psychopy_data)"
   ]
  },
  {
   "cell_type": "markdown",
   "id": "e33ad176",
   "metadata": {},
   "source": [
    "### [2] Get RT of 9 conditions"
   ]
  },
  {
   "cell_type": "code",
   "execution_count": 55,
   "id": "b5f79b23",
   "metadata": {},
   "outputs": [],
   "source": [
    "# not allow error in the current trial\n",
    "cC_NoE, cC_RT_NoE = pr.get_RT(psychopy_data, 'cC')\n",
    "cN_NoE, cN_RT_NoE = pr.get_RT(psychopy_data, 'cN')\n",
    "cI_NoE, cI_RT_NoE = pr.get_RT(psychopy_data, 'cI')\n",
    "nC_NoE, nC_RT_NoE = pr.get_RT(psychopy_data, 'nC')\n",
    "nN_NoE, nN_RT_NoE = pr.get_RT(psychopy_data, 'nN')\n",
    "nI_NoE, nI_RT_NoE = pr.get_RT(psychopy_data, 'nI')\n",
    "iC_NoE, iC_RT_NoE = pr.get_RT(psychopy_data, 'iC')\n",
    "iN_NoE, iN_RT_NoE = pr.get_RT(psychopy_data, 'iN')\n",
    "iI_NoE, iI_RT_NoE = pr.get_RT(psychopy_data, 'iI')\n",
    "\n",
    "# allow error in the current trial\n",
    "cC_NoE, cC_RT_NoE = pr.get_RT(psychopy_data, 'cC', 'True')\n",
    "cN_NoE, cN_RT_NoE = pr.get_RT(psychopy_data, 'cN', 'True')\n",
    "cI_NoE, cI_RT_NoE = pr.get_RT(psychopy_data, 'cI', 'True')\n",
    "nC_NoE, nC_RT_NoE = pr.get_RT(psychopy_data, 'nC', 'True')\n",
    "nN_NoE, nN_RT_NoE = pr.get_RT(psychopy_data, 'nN', 'True')\n",
    "nI_NoE, nI_RT_NoE = pr.get_RT(psychopy_data, 'nI', 'True')\n",
    "iC_NoE, iC_RT_NoE = pr.get_RT(psychopy_data, 'iC', 'True')\n",
    "iN_NoE, iN_RT_NoE = pr.get_RT(psychopy_data, 'iN', 'True')\n",
    "iI_NoE, iI_RT_NoE = pr.get_RT(psychopy_data, 'iI', 'True')"
   ]
  },
  {
   "cell_type": "markdown",
   "id": "1fcb8ec8",
   "metadata": {},
   "source": [
    "### [3] Compute Sn & Label Median distance & Outlier"
   ]
  },
  {
   "cell_type": "code",
   "execution_count": 56,
   "id": "85e77442",
   "metadata": {},
   "outputs": [
    {
     "name": "stderr",
     "output_type": "stream",
     "text": [
      "/Users/guanruijia/Desktop/RA/UMich/AAC lab/processor.py:246: SettingWithCopyWarning: \n",
      "A value is trying to be set on a copy of a slice from a DataFrame\n",
      "\n",
      "See the caveats in the documentation: https://pandas.pydata.org/pandas-docs/stable/user_guide/indexing.html#returning-a-view-versus-a-copy\n",
      "  dataf['median_distance'][i] = 'Invalid'\n",
      "/Users/guanruijia/opt/anaconda3/lib/python3.9/site-packages/pandas/core/indexing.py:1732: SettingWithCopyWarning: \n",
      "A value is trying to be set on a copy of a slice from a DataFrame\n",
      "\n",
      "See the caveats in the documentation: https://pandas.pydata.org/pandas-docs/stable/user_guide/indexing.html#returning-a-view-versus-a-copy\n",
      "  self._setitem_single_block(indexer, value, name)\n"
     ]
    }
   ],
   "source": [
    "psychopy_data, sn_all = pr.compute_sn_all(psychopy_data, True)"
   ]
  },
  {
   "cell_type": "code",
   "execution_count": 57,
   "id": "54b9ad7f",
   "metadata": {},
   "outputs": [
    {
     "data": {
      "text/html": [
       "<div>\n",
       "<style scoped>\n",
       "    .dataframe tbody tr th:only-of-type {\n",
       "        vertical-align: middle;\n",
       "    }\n",
       "\n",
       "    .dataframe tbody tr th {\n",
       "        vertical-align: top;\n",
       "    }\n",
       "\n",
       "    .dataframe thead th {\n",
       "        text-align: right;\n",
       "    }\n",
       "</style>\n",
       "<table border=\"1\" class=\"dataframe\">\n",
       "  <thead>\n",
       "    <tr style=\"text-align: right;\">\n",
       "      <th></th>\n",
       "      <th>ExpName</th>\n",
       "      <th>PsNum</th>\n",
       "      <th>Age</th>\n",
       "      <th>Sex</th>\n",
       "      <th>Vision</th>\n",
       "      <th>Date</th>\n",
       "      <th>RunType</th>\n",
       "      <th>Distractor</th>\n",
       "      <th>Target</th>\n",
       "      <th>corrAns</th>\n",
       "      <th>arduino_rt</th>\n",
       "      <th>CurrTrialType</th>\n",
       "      <th>PrevTrialType</th>\n",
       "      <th>CurrAcc</th>\n",
       "      <th>PrevAcc</th>\n",
       "      <th>median_distance</th>\n",
       "    </tr>\n",
       "  </thead>\n",
       "  <tbody>\n",
       "    <tr>\n",
       "      <th>46</th>\n",
       "      <td>Prime-Probe</td>\n",
       "      <td>90000</td>\n",
       "      <td>NaN</td>\n",
       "      <td>NaN</td>\n",
       "      <td>NaN</td>\n",
       "      <td>2022-09-14_09h48.37.147</td>\n",
       "      <td>Test</td>\n",
       "      <td>Visual_Stimuli/D_Left.png</td>\n",
       "      <td>Visual_Stimuli/T_Left.png</td>\n",
       "      <td>f</td>\n",
       "      <td>353.0</td>\n",
       "      <td>Congruent</td>\n",
       "      <td>None</td>\n",
       "      <td>Correct</td>\n",
       "      <td>None</td>\n",
       "      <td>Invalid</td>\n",
       "    </tr>\n",
       "    <tr>\n",
       "      <th>47</th>\n",
       "      <td>Prime-Probe</td>\n",
       "      <td>90000</td>\n",
       "      <td>NaN</td>\n",
       "      <td>NaN</td>\n",
       "      <td>NaN</td>\n",
       "      <td>2022-09-14_09h48.37.147</td>\n",
       "      <td>Test</td>\n",
       "      <td>Visual_Stimuli/D_Up.png</td>\n",
       "      <td>Visual_Stimuli/T_Down.png</td>\n",
       "      <td>n</td>\n",
       "      <td>407.0</td>\n",
       "      <td>Incongruent</td>\n",
       "      <td>Congruent</td>\n",
       "      <td>Correct</td>\n",
       "      <td>Correct</td>\n",
       "      <td>82.0</td>\n",
       "    </tr>\n",
       "    <tr>\n",
       "      <th>48</th>\n",
       "      <td>Prime-Probe</td>\n",
       "      <td>90000</td>\n",
       "      <td>NaN</td>\n",
       "      <td>NaN</td>\n",
       "      <td>NaN</td>\n",
       "      <td>2022-09-14_09h48.37.147</td>\n",
       "      <td>Test</td>\n",
       "      <td>Visual_Stimuli/N_Horiz.png</td>\n",
       "      <td>Visual_Stimuli/T_Left.png</td>\n",
       "      <td>f</td>\n",
       "      <td>356.0</td>\n",
       "      <td>Neutral</td>\n",
       "      <td>Incongruent</td>\n",
       "      <td>Correct</td>\n",
       "      <td>Correct</td>\n",
       "      <td>91.0</td>\n",
       "    </tr>\n",
       "    <tr>\n",
       "      <th>49</th>\n",
       "      <td>Prime-Probe</td>\n",
       "      <td>90000</td>\n",
       "      <td>NaN</td>\n",
       "      <td>NaN</td>\n",
       "      <td>NaN</td>\n",
       "      <td>2022-09-14_09h48.37.147</td>\n",
       "      <td>Test</td>\n",
       "      <td>Visual_Stimuli/D_Up.png</td>\n",
       "      <td>Visual_Stimuli/T_Down.png</td>\n",
       "      <td>n</td>\n",
       "      <td>312.0</td>\n",
       "      <td>Incongruent</td>\n",
       "      <td>Neutral</td>\n",
       "      <td>Correct</td>\n",
       "      <td>Correct</td>\n",
       "      <td>71.0</td>\n",
       "    </tr>\n",
       "    <tr>\n",
       "      <th>50</th>\n",
       "      <td>Prime-Probe</td>\n",
       "      <td>90000</td>\n",
       "      <td>NaN</td>\n",
       "      <td>NaN</td>\n",
       "      <td>NaN</td>\n",
       "      <td>2022-09-14_09h48.37.147</td>\n",
       "      <td>Test</td>\n",
       "      <td>Visual_Stimuli/D_Right.png</td>\n",
       "      <td>Visual_Stimuli/T_Left.png</td>\n",
       "      <td>f</td>\n",
       "      <td>529.0</td>\n",
       "      <td>Incongruent</td>\n",
       "      <td>Incongruent</td>\n",
       "      <td>Correct</td>\n",
       "      <td>Correct</td>\n",
       "      <td>153.0</td>\n",
       "    </tr>\n",
       "    <tr>\n",
       "      <th>...</th>\n",
       "      <td>...</td>\n",
       "      <td>...</td>\n",
       "      <td>...</td>\n",
       "      <td>...</td>\n",
       "      <td>...</td>\n",
       "      <td>...</td>\n",
       "      <td>...</td>\n",
       "      <td>...</td>\n",
       "      <td>...</td>\n",
       "      <td>...</td>\n",
       "      <td>...</td>\n",
       "      <td>...</td>\n",
       "      <td>...</td>\n",
       "      <td>...</td>\n",
       "      <td>...</td>\n",
       "      <td>...</td>\n",
       "    </tr>\n",
       "    <tr>\n",
       "      <th>697</th>\n",
       "      <td>Prime-Probe</td>\n",
       "      <td>90000</td>\n",
       "      <td>NaN</td>\n",
       "      <td>NaN</td>\n",
       "      <td>NaN</td>\n",
       "      <td>2022-09-14_09h48.37.147</td>\n",
       "      <td>Test</td>\n",
       "      <td>Visual_Stimuli/D_Down.png</td>\n",
       "      <td>Visual_Stimuli/T_Down.png</td>\n",
       "      <td>n</td>\n",
       "      <td>297.0</td>\n",
       "      <td>Congruent</td>\n",
       "      <td>Incongruent</td>\n",
       "      <td>Correct</td>\n",
       "      <td>Correct</td>\n",
       "      <td>88.0</td>\n",
       "    </tr>\n",
       "    <tr>\n",
       "      <th>698</th>\n",
       "      <td>Prime-Probe</td>\n",
       "      <td>90000</td>\n",
       "      <td>NaN</td>\n",
       "      <td>NaN</td>\n",
       "      <td>NaN</td>\n",
       "      <td>2022-09-14_09h48.37.147</td>\n",
       "      <td>Test</td>\n",
       "      <td>Visual_Stimuli/D_Left.png</td>\n",
       "      <td>Visual_Stimuli/T_Right.png</td>\n",
       "      <td>g</td>\n",
       "      <td>413.0</td>\n",
       "      <td>Incongruent</td>\n",
       "      <td>Congruent</td>\n",
       "      <td>Correct</td>\n",
       "      <td>Correct</td>\n",
       "      <td>80.0</td>\n",
       "    </tr>\n",
       "    <tr>\n",
       "      <th>699</th>\n",
       "      <td>Prime-Probe</td>\n",
       "      <td>90000</td>\n",
       "      <td>NaN</td>\n",
       "      <td>NaN</td>\n",
       "      <td>NaN</td>\n",
       "      <td>2022-09-14_09h48.37.147</td>\n",
       "      <td>Test</td>\n",
       "      <td>Visual_Stimuli/D_Down.png</td>\n",
       "      <td>Visual_Stimuli/T_Up.png</td>\n",
       "      <td>j</td>\n",
       "      <td>454.0</td>\n",
       "      <td>Incongruent</td>\n",
       "      <td>Incongruent</td>\n",
       "      <td>Correct</td>\n",
       "      <td>Correct</td>\n",
       "      <td>96.0</td>\n",
       "    </tr>\n",
       "    <tr>\n",
       "      <th>700</th>\n",
       "      <td>Prime-Probe</td>\n",
       "      <td>90000</td>\n",
       "      <td>NaN</td>\n",
       "      <td>NaN</td>\n",
       "      <td>NaN</td>\n",
       "      <td>2022-09-14_09h48.37.147</td>\n",
       "      <td>Test</td>\n",
       "      <td>Visual_Stimuli/D_Right.png</td>\n",
       "      <td>Visual_Stimuli/T_Left.png</td>\n",
       "      <td>f</td>\n",
       "      <td>333.0</td>\n",
       "      <td>Incongruent</td>\n",
       "      <td>Incongruent</td>\n",
       "      <td>Correct</td>\n",
       "      <td>Correct</td>\n",
       "      <td>46.0</td>\n",
       "    </tr>\n",
       "    <tr>\n",
       "      <th>701</th>\n",
       "      <td>Prime-Probe</td>\n",
       "      <td>90000</td>\n",
       "      <td>NaN</td>\n",
       "      <td>NaN</td>\n",
       "      <td>NaN</td>\n",
       "      <td>2022-09-14_09h48.37.147</td>\n",
       "      <td>Test</td>\n",
       "      <td>Visual_Stimuli/D_Up.png</td>\n",
       "      <td>Visual_Stimuli/T_Up.png</td>\n",
       "      <td>j</td>\n",
       "      <td>539.0</td>\n",
       "      <td>Congruent</td>\n",
       "      <td>Incongruent</td>\n",
       "      <td>Correct</td>\n",
       "      <td>Correct</td>\n",
       "      <td>156.0</td>\n",
       "    </tr>\n",
       "  </tbody>\n",
       "</table>\n",
       "<p>648 rows × 16 columns</p>\n",
       "</div>"
      ],
      "text/plain": [
       "         ExpName  PsNum  Age  Sex  Vision                     Date RunType  \\\n",
       "46   Prime-Probe  90000  NaN  NaN     NaN  2022-09-14_09h48.37.147    Test   \n",
       "47   Prime-Probe  90000  NaN  NaN     NaN  2022-09-14_09h48.37.147    Test   \n",
       "48   Prime-Probe  90000  NaN  NaN     NaN  2022-09-14_09h48.37.147    Test   \n",
       "49   Prime-Probe  90000  NaN  NaN     NaN  2022-09-14_09h48.37.147    Test   \n",
       "50   Prime-Probe  90000  NaN  NaN     NaN  2022-09-14_09h48.37.147    Test   \n",
       "..           ...    ...  ...  ...     ...                      ...     ...   \n",
       "697  Prime-Probe  90000  NaN  NaN     NaN  2022-09-14_09h48.37.147    Test   \n",
       "698  Prime-Probe  90000  NaN  NaN     NaN  2022-09-14_09h48.37.147    Test   \n",
       "699  Prime-Probe  90000  NaN  NaN     NaN  2022-09-14_09h48.37.147    Test   \n",
       "700  Prime-Probe  90000  NaN  NaN     NaN  2022-09-14_09h48.37.147    Test   \n",
       "701  Prime-Probe  90000  NaN  NaN     NaN  2022-09-14_09h48.37.147    Test   \n",
       "\n",
       "                     Distractor                      Target corrAns  \\\n",
       "46    Visual_Stimuli/D_Left.png   Visual_Stimuli/T_Left.png       f   \n",
       "47      Visual_Stimuli/D_Up.png   Visual_Stimuli/T_Down.png       n   \n",
       "48   Visual_Stimuli/N_Horiz.png   Visual_Stimuli/T_Left.png       f   \n",
       "49      Visual_Stimuli/D_Up.png   Visual_Stimuli/T_Down.png       n   \n",
       "50   Visual_Stimuli/D_Right.png   Visual_Stimuli/T_Left.png       f   \n",
       "..                          ...                         ...     ...   \n",
       "697   Visual_Stimuli/D_Down.png   Visual_Stimuli/T_Down.png       n   \n",
       "698   Visual_Stimuli/D_Left.png  Visual_Stimuli/T_Right.png       g   \n",
       "699   Visual_Stimuli/D_Down.png     Visual_Stimuli/T_Up.png       j   \n",
       "700  Visual_Stimuli/D_Right.png   Visual_Stimuli/T_Left.png       f   \n",
       "701     Visual_Stimuli/D_Up.png     Visual_Stimuli/T_Up.png       j   \n",
       "\n",
       "     arduino_rt CurrTrialType PrevTrialType  CurrAcc  PrevAcc median_distance  \n",
       "46        353.0     Congruent          None  Correct     None         Invalid  \n",
       "47        407.0   Incongruent     Congruent  Correct  Correct            82.0  \n",
       "48        356.0       Neutral   Incongruent  Correct  Correct            91.0  \n",
       "49        312.0   Incongruent       Neutral  Correct  Correct            71.0  \n",
       "50        529.0   Incongruent   Incongruent  Correct  Correct           153.0  \n",
       "..          ...           ...           ...      ...      ...             ...  \n",
       "697       297.0     Congruent   Incongruent  Correct  Correct            88.0  \n",
       "698       413.0   Incongruent     Congruent  Correct  Correct            80.0  \n",
       "699       454.0   Incongruent   Incongruent  Correct  Correct            96.0  \n",
       "700       333.0   Incongruent   Incongruent  Correct  Correct            46.0  \n",
       "701       539.0     Congruent   Incongruent  Correct  Correct           156.0  \n",
       "\n",
       "[648 rows x 16 columns]"
      ]
     },
     "execution_count": 57,
     "metadata": {},
     "output_type": "execute_result"
    }
   ],
   "source": [
    "psychopy_data"
   ]
  },
  {
   "cell_type": "code",
   "execution_count": 58,
   "id": "2cdeb4e2",
   "metadata": {},
   "outputs": [
    {
     "name": "stdout",
     "output_type": "stream",
     "text": [
      "{'cC': 69.0, 'cN': 89.66960352422909, 'cI': 84.0, 'nC': 52.0, 'nN': 81.0, 'nI': 72.0, 'iC': 54.69329529243938, 'iN': 117.0, 'iI': 54.0}\n"
     ]
    }
   ],
   "source": [
    "print(sn_all)"
   ]
  },
  {
   "cell_type": "code",
   "execution_count": 59,
   "id": "4943f5f3",
   "metadata": {},
   "outputs": [
    {
     "name": "stderr",
     "output_type": "stream",
     "text": [
      "/Users/guanruijia/Desktop/RA/UMich/AAC lab/processor.py:246: SettingWithCopyWarning: \n",
      "A value is trying to be set on a copy of a slice from a DataFrame\n",
      "\n",
      "See the caveats in the documentation: https://pandas.pydata.org/pandas-docs/stable/user_guide/indexing.html#returning-a-view-versus-a-copy\n",
      "  dataf['median_distance'][i] = 'Invalid'\n",
      "/Users/guanruijia/opt/anaconda3/lib/python3.9/site-packages/pandas/core/indexing.py:1732: SettingWithCopyWarning: \n",
      "A value is trying to be set on a copy of a slice from a DataFrame\n",
      "\n",
      "See the caveats in the documentation: https://pandas.pydata.org/pandas-docs/stable/user_guide/indexing.html#returning-a-view-versus-a-copy\n",
      "  self._setitem_single_block(indexer, value, name)\n",
      "/Users/guanruijia/Desktop/RA/UMich/AAC lab/processor.py:282: SettingWithCopyWarning: \n",
      "A value is trying to be set on a copy of a slice from a DataFrame\n",
      "\n",
      "See the caveats in the documentation: https://pandas.pydata.org/pandas-docs/stable/user_guide/indexing.html#returning-a-view-versus-a-copy\n",
      "  dataf['Outlier'][i]= \"Invalid\"\n"
     ]
    }
   ],
   "source": [
    "ful_data = pr.identify_outliers(psychopy_data, True)\n",
    "ful_data.to_csv('full.csv')"
   ]
  },
  {
   "cell_type": "code",
   "execution_count": 60,
   "id": "c82cc249",
   "metadata": {},
   "outputs": [
    {
     "data": {
      "text/plain": [
       "{'cC': 407.7258064516129,\n",
       " 'cN': 437.97058823529414,\n",
       " 'cI': 492.1857142857143,\n",
       " 'nC': 392.69117647058823,\n",
       " 'nN': 433.66153846153844,\n",
       " 'nI': 414.4852941176471,\n",
       " 'iC': 399.77464788732397,\n",
       " 'iN': 471.07142857142856,\n",
       " 'iI': 413.42857142857144}"
      ]
     },
     "execution_count": 60,
     "metadata": {},
     "output_type": "execute_result"
    }
   ],
   "source": [
    "pr.get_means(ful_data)"
   ]
  },
  {
   "cell_type": "markdown",
   "id": "06bff98b",
   "metadata": {},
   "source": [
    "### [4] Get statistics"
   ]
  },
  {
   "cell_type": "code",
   "execution_count": 61,
   "id": "0b77483f",
   "metadata": {},
   "outputs": [
    {
     "name": "stdout",
     "output_type": "stream",
     "text": [
      "{'cC': 0.044776, 'cN': 0.042857, 'cI': 0.0, 'nC': 0.042254, 'nN': 0.014286, 'nI': 0.028169, 'iC': 0.014493, 'iN': 0.014286, 'iI': 0.0}\n"
     ]
    }
   ],
   "source": [
    "print(pr.get_error_rate(ful_data))"
   ]
  },
  {
   "cell_type": "code",
   "execution_count": 62,
   "id": "30d86847",
   "metadata": {},
   "outputs": [
    {
     "data": {
      "text/plain": [
       "0.977492"
      ]
     },
     "execution_count": 62,
     "metadata": {},
     "output_type": "execute_result"
    }
   ],
   "source": [
    "pr.get_overall_accuracy(ful_data)"
   ]
  },
  {
   "cell_type": "code",
   "execution_count": 63,
   "id": "87fb0480",
   "metadata": {},
   "outputs": [
    {
     "data": {
      "text/plain": [
       "0.042345"
      ]
     },
     "execution_count": 63,
     "metadata": {},
     "output_type": "execute_result"
    }
   ],
   "source": [
    "pr.get_total_percent_outliers(ful_data)"
   ]
  },
  {
   "cell_type": "code",
   "execution_count": null,
   "id": "89592357",
   "metadata": {},
   "outputs": [],
   "source": []
  }
 ],
 "metadata": {
  "kernelspec": {
   "display_name": "Python 3.9.7 ('base')",
   "language": "python",
   "name": "python3"
  },
  "language_info": {
   "codemirror_mode": {
    "name": "ipython",
    "version": 3
   },
   "file_extension": ".py",
   "mimetype": "text/x-python",
   "name": "python",
   "nbconvert_exporter": "python",
   "pygments_lexer": "ipython3",
   "version": "3.9.7"
  },
  "vscode": {
   "interpreter": {
    "hash": "f1e220e357445836402dc3051b6e73f8807b0d2d9a8ef58cec3298c934ea7d9a"
   }
  }
 },
 "nbformat": 4,
 "nbformat_minor": 5
}
