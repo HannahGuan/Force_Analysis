{
 "cells": [
  {
   "cell_type": "markdown",
   "id": "77923fbe",
   "metadata": {},
   "source": [
    "### [1] Import & Preprocess"
   ]
  },
  {
   "cell_type": "code",
   "execution_count": 1,
   "id": "6da06b19",
   "metadata": {},
   "outputs": [],
   "source": [
    "import numpy as np\n",
    "import seaborn as sns\n",
    "import matplotlib as plt\n",
    "import pandas as pd\n",
    "\n",
    "import processor as pr"
   ]
  },
  {
   "cell_type": "code",
   "execution_count": 2,
   "id": "fd7e0599",
   "metadata": {},
   "outputs": [],
   "source": [
    "# read in the data\n",
    "force_data = pd.read_csv(\"Force90000_pressure-data.csv\")\n",
    "psychopy_data = pd.read_csv(\"90000_Prime-Probe_2022-09-14_09h48.37.147.csv\")"
   ]
  },
  {
   "cell_type": "code",
   "execution_count": 3,
   "id": "6b997797",
   "metadata": {},
   "outputs": [],
   "source": [
    "# reduce data & add the previous accuracy\n",
    "psychopy_data = pr.psypy_reduce(psychopy_data)"
   ]
  },
  {
   "cell_type": "markdown",
   "id": "e33ad176",
   "metadata": {},
   "source": [
    "### [2] Get RT of 9 conditions"
   ]
  },
  {
   "cell_type": "code",
   "execution_count": 6,
   "id": "b5f79b23",
   "metadata": {},
   "outputs": [],
   "source": [
    "# not allow error in the current trial\n",
    "cC_NoE, cC_RT_NoE = pr.get_RT(psychopy_data, 'cC')\n",
    "cN_NoE, cN_RT_NoE = pr.get_RT(psychopy_data, 'cN')\n",
    "cI_NoE, cI_RT_NoE = pr.get_RT(psychopy_data, 'cI')\n",
    "nC_NoE, nC_RT_NoE = pr.get_RT(psychopy_data, 'nC')\n",
    "nN_NoE, nN_RT_NoE = pr.get_RT(psychopy_data, 'nN')\n",
    "nI_NoE, nI_RT_NoE = pr.get_RT(psychopy_data, 'nI')\n",
    "iC_NoE, iC_RT_NoE = pr.get_RT(psychopy_data, 'iC')\n",
    "iN_NoE, iN_RT_NoE = pr.get_RT(psychopy_data, 'iN')\n",
    "iI_NoE, iI_RT_NoE = pr.get_RT(psychopy_data, 'iI')\n",
    "\n",
    "# allow error in the current trial\n",
    "cC_NoE, cC_RT_NoE = pr.get_RT(psychopy_data, 'cC', 'True')\n",
    "cN_NoE, cN_RT_NoE = pr.get_RT(psychopy_data, 'cN', 'True')\n",
    "cI_NoE, cI_RT_NoE = pr.get_RT(psychopy_data, 'cI', 'True')\n",
    "nC_NoE, nC_RT_NoE = pr.get_RT(psychopy_data, 'nC', 'True')\n",
    "nN_NoE, nN_RT_NoE = pr.get_RT(psychopy_data, 'nN', 'True')\n",
    "nI_NoE, nI_RT_NoE = pr.get_RT(psychopy_data, 'nI', 'True')\n",
    "iC_NoE, iC_RT_NoE = pr.get_RT(psychopy_data, 'iC', 'True')\n",
    "iN_NoE, iN_RT_NoE = pr.get_RT(psychopy_data, 'iN', 'True')\n",
    "iI_NoE, iI_RT_NoE = pr.get_RT(psychopy_data, 'iI', 'True')"
   ]
  },
  {
   "cell_type": "code",
   "execution_count": null,
   "id": "ff4faa8e",
   "metadata": {},
   "outputs": [],
   "source": []
  },
  {
   "cell_type": "code",
   "execution_count": null,
   "id": "40b93420",
   "metadata": {},
   "outputs": [],
   "source": []
  },
  {
   "cell_type": "code",
   "execution_count": null,
   "id": "486c0cc8",
   "metadata": {},
   "outputs": [],
   "source": []
  }
 ],
 "metadata": {
  "kernelspec": {
   "display_name": "Python 3.9.7 ('base')",
   "language": "python",
   "name": "python3"
  },
  "language_info": {
   "codemirror_mode": {
    "name": "ipython",
    "version": 3
   },
   "file_extension": ".py",
   "mimetype": "text/x-python",
   "name": "python",
   "nbconvert_exporter": "python",
   "pygments_lexer": "ipython3",
   "version": "3.9.7"
  },
  "vscode": {
   "interpreter": {
    "hash": "f1e220e357445836402dc3051b6e73f8807b0d2d9a8ef58cec3298c934ea7d9a"
   }
  }
 },
 "nbformat": 4,
 "nbformat_minor": 5
}
