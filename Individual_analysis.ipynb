{
 "cells": [
  {
   "cell_type": "markdown",
   "id": "77923fbe",
   "metadata": {},
   "source": [
    "## PsychoPy data"
   ]
  },
  {
   "cell_type": "markdown",
   "id": "6b667cd7",
   "metadata": {},
   "source": [
    "### [1] Import & Preprocess"
   ]
  },
  {
   "cell_type": "code",
   "execution_count": 1,
   "id": "6da06b19",
   "metadata": {},
   "outputs": [],
   "source": [
    "import numpy as np\n",
    "import seaborn as sns\n",
    "import matplotlib.pyplot as plt\n",
    "import pandas as pd\n",
    "\n",
    "import processor as pr"
   ]
  },
  {
   "cell_type": "code",
   "execution_count": 2,
   "id": "fd7e0599",
   "metadata": {},
   "outputs": [],
   "source": [
    "# read in the data\n",
    "psychopy_data = pd.read_csv(\"py_data_test.csv\")"
   ]
  },
  {
   "cell_type": "code",
   "execution_count": 3,
   "id": "6b997797",
   "metadata": {},
   "outputs": [],
   "source": [
    "# reduce data & add the previous accuracy\n",
    "psychopy_data = pr.psypy_reduce(psychopy_data)"
   ]
  },
  {
   "cell_type": "markdown",
   "id": "e33ad176",
   "metadata": {},
   "source": [
    "### [2] Get RT of 9 conditions"
   ]
  },
  {
   "cell_type": "code",
   "execution_count": 4,
   "id": "b5f79b23",
   "metadata": {},
   "outputs": [],
   "source": [
    "# not allow error in the current trial\n",
    "cC_NoE, cC_RT_NoE = pr.get_RT(psychopy_data, 'cC')\n",
    "cN_NoE, cN_RT_NoE = pr.get_RT(psychopy_data, 'cN')\n",
    "cI_NoE, cI_RT_NoE = pr.get_RT(psychopy_data, 'cI')\n",
    "nC_NoE, nC_RT_NoE = pr.get_RT(psychopy_data, 'nC')\n",
    "nN_NoE, nN_RT_NoE = pr.get_RT(psychopy_data, 'nN')\n",
    "nI_NoE, nI_RT_NoE = pr.get_RT(psychopy_data, 'nI')\n",
    "iC_NoE, iC_RT_NoE = pr.get_RT(psychopy_data, 'iC')\n",
    "iN_NoE, iN_RT_NoE = pr.get_RT(psychopy_data, 'iN')\n",
    "iI_NoE, iI_RT_NoE = pr.get_RT(psychopy_data, 'iI')\n",
    "\n",
    "# allow error in the current trial\n",
    "cC_NoE, cC_RT_NoE = pr.get_RT(psychopy_data, 'cC', 'True')\n",
    "cN_NoE, cN_RT_NoE = pr.get_RT(psychopy_data, 'cN', 'True')\n",
    "cI_NoE, cI_RT_NoE = pr.get_RT(psychopy_data, 'cI', 'True')\n",
    "nC_NoE, nC_RT_NoE = pr.get_RT(psychopy_data, 'nC', 'True')\n",
    "nN_NoE, nN_RT_NoE = pr.get_RT(psychopy_data, 'nN', 'True')\n",
    "nI_NoE, nI_RT_NoE = pr.get_RT(psychopy_data, 'nI', 'True')\n",
    "iC_NoE, iC_RT_NoE = pr.get_RT(psychopy_data, 'iC', 'True')\n",
    "iN_NoE, iN_RT_NoE = pr.get_RT(psychopy_data, 'iN', 'True')\n",
    "iI_NoE, iI_RT_NoE = pr.get_RT(psychopy_data, 'iI', 'True')"
   ]
  },
  {
   "cell_type": "markdown",
   "id": "1fcb8ec8",
   "metadata": {},
   "source": [
    "### [3] Compute Sn & Label Median distance & Outlier"
   ]
  },
  {
   "cell_type": "code",
   "execution_count": 5,
   "id": "85e77442",
   "metadata": {},
   "outputs": [
    {
     "name": "stderr",
     "output_type": "stream",
     "text": [
      "/Users/guanruijia/Desktop/RA/UMich/AAC lab/processor.py:228: SettingWithCopyWarning: \n",
      "A value is trying to be set on a copy of a slice from a DataFrame\n",
      "\n",
      "See the caveats in the documentation: https://pandas.pydata.org/pandas-docs/stable/user_guide/indexing.html#returning-a-view-versus-a-copy\n",
      "  dataf['median_distance'][i] = 'Invalid'\n",
      "/Users/guanruijia/Desktop/RA/UMich/AAC lab/processor.py:264: SettingWithCopyWarning: \n",
      "A value is trying to be set on a copy of a slice from a DataFrame\n",
      "\n",
      "See the caveats in the documentation: https://pandas.pydata.org/pandas-docs/stable/user_guide/indexing.html#returning-a-view-versus-a-copy\n",
      "  dataf['median_distance_all'][i] = 'Invalid'\n"
     ]
    }
   ],
   "source": [
    "psychopy_data, sn_all, sn_all_all = pr.compute_sn_all(psychopy_data)"
   ]
  },
  {
   "cell_type": "code",
   "execution_count": 6,
   "id": "2cdeb4e2",
   "metadata": {},
   "outputs": [
    {
     "name": "stdout",
     "output_type": "stream",
     "text": [
      "{'cC': 69.0, 'cN': 90.0, 'cI': 84.0, 'nC': 52.0, 'nN': 83.65834633385336, 'nI': 72.0, 'iC': 54.69329529243938, 'iN': 117.0, 'iI': 54.0}\n",
      "{'cC': 69.0, 'cN': 89.66960352422909, 'cI': 84.0, 'nC': 52.0, 'nN': 81.0, 'nI': 72.0, 'iC': 54.69329529243938, 'iN': 117.0, 'iI': 54.0}\n"
     ]
    }
   ],
   "source": [
    "print(sn_all)\n",
    "print(sn_all_all)"
   ]
  },
  {
   "cell_type": "code",
   "execution_count": 9,
   "id": "4943f5f3",
   "metadata": {},
   "outputs": [
    {
     "name": "stderr",
     "output_type": "stream",
     "text": [
      "/Users/guanruijia/Desktop/RA/UMich/AAC lab/processor.py:228: SettingWithCopyWarning: \n",
      "A value is trying to be set on a copy of a slice from a DataFrame\n",
      "\n",
      "See the caveats in the documentation: https://pandas.pydata.org/pandas-docs/stable/user_guide/indexing.html#returning-a-view-versus-a-copy\n",
      "  dataf['median_distance'][i] = 'Invalid'\n",
      "/Users/guanruijia/Desktop/RA/UMich/AAC lab/processor.py:264: SettingWithCopyWarning: \n",
      "A value is trying to be set on a copy of a slice from a DataFrame\n",
      "\n",
      "See the caveats in the documentation: https://pandas.pydata.org/pandas-docs/stable/user_guide/indexing.html#returning-a-view-versus-a-copy\n",
      "  dataf['median_distance_all'][i] = 'Invalid'\n",
      "/Users/guanruijia/Desktop/RA/UMich/AAC lab/processor.py:337: SettingWithCopyWarning: \n",
      "A value is trying to be set on a copy of a slice from a DataFrame\n",
      "\n",
      "See the caveats in the documentation: https://pandas.pydata.org/pandas-docs/stable/user_guide/indexing.html#returning-a-view-versus-a-copy\n",
      "  dataf['Outlier'][i]= \"Invalid\"\n",
      "/Users/guanruijia/Desktop/RA/UMich/AAC lab/processor.py:345: SettingWithCopyWarning: \n",
      "A value is trying to be set on a copy of a slice from a DataFrame\n",
      "\n",
      "See the caveats in the documentation: https://pandas.pydata.org/pandas-docs/stable/user_guide/indexing.html#returning-a-view-versus-a-copy\n",
      "  dataf['Outlier_all'][i]= \"Invalid\"\n"
     ]
    }
   ],
   "source": [
    "ful_data = pr.identify_outliers(psychopy_data, False)\n",
    "ful_data.to_csv('psychpyfull.csv')"
   ]
  },
  {
   "cell_type": "code",
   "execution_count": 10,
   "id": "c82cc249",
   "metadata": {},
   "outputs": [
    {
     "name": "stdout",
     "output_type": "stream",
     "text": [
      "{'cC': 407.7258064516129, 'cN': 437.97058823529414, 'cI': 492.1857142857143, 'nC': 392.69117647058823, 'nN': 433.66153846153844, 'nI': 414.4852941176471, 'iC': 399.77464788732397, 'iN': 471.07142857142856, 'iI': 413.42857142857144}\n"
     ]
    }
   ],
   "source": [
    "print(pr.get_means(ful_data))"
   ]
  },
  {
   "cell_type": "markdown",
   "id": "06bff98b",
   "metadata": {},
   "source": [
    "### [4] Get statistics"
   ]
  },
  {
   "cell_type": "code",
   "execution_count": 11,
   "id": "0b77483f",
   "metadata": {},
   "outputs": [
    {
     "name": "stdout",
     "output_type": "stream",
     "text": [
      "{'cC': 0.0, 'cN': 0.014706, 'cI': 0.0, 'nC': 0.0, 'nN': 0.014286, 'nI': 0.0, 'iC': 0.0, 'iN': 0.0, 'iI': 0.0}\n"
     ]
    }
   ],
   "source": [
    "print(pr.get_error_rate(ful_data))"
   ]
  },
  {
   "cell_type": "code",
   "execution_count": 12,
   "id": "30d86847",
   "metadata": {},
   "outputs": [
    {
     "data": {
      "text/plain": [
       "0.978395"
      ]
     },
     "execution_count": 12,
     "metadata": {},
     "output_type": "execute_result"
    }
   ],
   "source": [
    "pr.get_overall_accuracy(ful_data)"
   ]
  },
  {
   "cell_type": "code",
   "execution_count": 13,
   "id": "87fb0480",
   "metadata": {},
   "outputs": [
    {
     "data": {
      "text/plain": [
       "0.040123"
      ]
     },
     "execution_count": 13,
     "metadata": {},
     "output_type": "execute_result"
    }
   ],
   "source": [
    "pr.get_total_percent_outliers(ful_data)"
   ]
  },
  {
   "cell_type": "markdown",
   "id": "89592357",
   "metadata": {},
   "source": [
    "## Force data"
   ]
  },
  {
   "cell_type": "code",
   "execution_count": 2,
   "id": "93e31ccd",
   "metadata": {},
   "outputs": [],
   "source": [
    "import force_analyzer as fa\n"
   ]
  },
  {
   "cell_type": "markdown",
   "id": "15889ec3",
   "metadata": {},
   "source": [
    "### [1] Import & Preprocess"
   ]
  },
  {
   "cell_type": "code",
   "execution_count": 4,
   "id": "d990310c",
   "metadata": {},
   "outputs": [
    {
     "data": {
      "text/html": [
       "<div>\n",
       "<style scoped>\n",
       "    .dataframe tbody tr th:only-of-type {\n",
       "        vertical-align: middle;\n",
       "    }\n",
       "\n",
       "    .dataframe tbody tr th {\n",
       "        vertical-align: top;\n",
       "    }\n",
       "\n",
       "    .dataframe thead th {\n",
       "        text-align: right;\n",
       "    }\n",
       "</style>\n",
       "<table border=\"1\" class=\"dataframe\">\n",
       "  <thead>\n",
       "    <tr style=\"text-align: right;\">\n",
       "      <th></th>\n",
       "      <th>force_F</th>\n",
       "      <th>force_G</th>\n",
       "      <th>force_J</th>\n",
       "      <th>force_K</th>\n",
       "      <th>force_N</th>\n",
       "      <th>Photodiode</th>\n",
       "      <th>record_F</th>\n",
       "      <th>record_G</th>\n",
       "      <th>record_J</th>\n",
       "      <th>record_K</th>\n",
       "      <th>record_N</th>\n",
       "      <th>record_X_</th>\n",
       "      <th>record_Y_</th>\n",
       "      <th>stimulus_flag</th>\n",
       "      <th>Timestamps</th>\n",
       "    </tr>\n",
       "  </thead>\n",
       "  <tbody>\n",
       "    <tr>\n",
       "      <th>0</th>\n",
       "      <td>372</td>\n",
       "      <td>409</td>\n",
       "      <td>447</td>\n",
       "      <td>337</td>\n",
       "      <td>406</td>\n",
       "      <td>306</td>\n",
       "      <td>0</td>\n",
       "      <td>0</td>\n",
       "      <td>0</td>\n",
       "      <td>0</td>\n",
       "      <td>0</td>\n",
       "      <td>0</td>\n",
       "      <td>0</td>\n",
       "      <td>0</td>\n",
       "      <td>293538</td>\n",
       "    </tr>\n",
       "    <tr>\n",
       "      <th>1</th>\n",
       "      <td>373</td>\n",
       "      <td>410</td>\n",
       "      <td>448</td>\n",
       "      <td>337</td>\n",
       "      <td>406</td>\n",
       "      <td>306</td>\n",
       "      <td>0</td>\n",
       "      <td>0</td>\n",
       "      <td>0</td>\n",
       "      <td>0</td>\n",
       "      <td>0</td>\n",
       "      <td>0</td>\n",
       "      <td>0</td>\n",
       "      <td>0</td>\n",
       "      <td>293540</td>\n",
       "    </tr>\n",
       "    <tr>\n",
       "      <th>2</th>\n",
       "      <td>372</td>\n",
       "      <td>410</td>\n",
       "      <td>447</td>\n",
       "      <td>337</td>\n",
       "      <td>406</td>\n",
       "      <td>306</td>\n",
       "      <td>0</td>\n",
       "      <td>0</td>\n",
       "      <td>0</td>\n",
       "      <td>0</td>\n",
       "      <td>0</td>\n",
       "      <td>0</td>\n",
       "      <td>0</td>\n",
       "      <td>0</td>\n",
       "      <td>293542</td>\n",
       "    </tr>\n",
       "    <tr>\n",
       "      <th>3</th>\n",
       "      <td>372</td>\n",
       "      <td>411</td>\n",
       "      <td>448</td>\n",
       "      <td>337</td>\n",
       "      <td>406</td>\n",
       "      <td>305</td>\n",
       "      <td>0</td>\n",
       "      <td>0</td>\n",
       "      <td>0</td>\n",
       "      <td>0</td>\n",
       "      <td>0</td>\n",
       "      <td>0</td>\n",
       "      <td>0</td>\n",
       "      <td>0</td>\n",
       "      <td>293544</td>\n",
       "    </tr>\n",
       "    <tr>\n",
       "      <th>4</th>\n",
       "      <td>372</td>\n",
       "      <td>411</td>\n",
       "      <td>448</td>\n",
       "      <td>337</td>\n",
       "      <td>407</td>\n",
       "      <td>306</td>\n",
       "      <td>0</td>\n",
       "      <td>0</td>\n",
       "      <td>0</td>\n",
       "      <td>0</td>\n",
       "      <td>0</td>\n",
       "      <td>0</td>\n",
       "      <td>0</td>\n",
       "      <td>0</td>\n",
       "      <td>293546</td>\n",
       "    </tr>\n",
       "  </tbody>\n",
       "</table>\n",
       "</div>"
      ],
      "text/plain": [
       "   force_F  force_G  force_J  force_K  force_N  Photodiode  record_F  \\\n",
       "0      372      409      447      337      406         306         0   \n",
       "1      373      410      448      337      406         306         0   \n",
       "2      372      410      447      337      406         306         0   \n",
       "3      372      411      448      337      406         305         0   \n",
       "4      372      411      448      337      407         306         0   \n",
       "\n",
       "   record_G  record_J  record_K  record_N  record_X_  record_Y_  \\\n",
       "0         0         0         0         0          0          0   \n",
       "1         0         0         0         0          0          0   \n",
       "2         0         0         0         0          0          0   \n",
       "3         0         0         0         0          0          0   \n",
       "4         0         0         0         0          0          0   \n",
       "\n",
       "   stimulus_flag  Timestamps  \n",
       "0              0      293538  \n",
       "1              0      293540  \n",
       "2              0      293542  \n",
       "3              0      293544  \n",
       "4              0      293546  "
      ]
     },
     "execution_count": 4,
     "metadata": {},
     "output_type": "execute_result"
    }
   ],
   "source": [
    "tool = fa.Force_analysis('force_data_test.csv', 'py_data_test.csv')\n",
    "force_data = tool.col_read() #first start of the distractor in the test data: Time 290539\n",
    "force_data.to_csv(\"force_reduced_data.csv\")\n",
    "force_data.head()"
   ]
  },
  {
   "cell_type": "code",
   "execution_count": 6,
   "id": "bfb0042d",
   "metadata": {},
   "outputs": [],
   "source": [
    "tool.get_force()"
   ]
  },
  {
   "cell_type": "code",
   "execution_count": 6,
   "id": "5e1f12bc",
   "metadata": {},
   "outputs": [
    {
     "data": {
      "image/png": "[encoded data removed]",
      "text/plain": [
       "<Figure size 432x288 with 1 Axes>"
      ]
     },
     "metadata": {
      "needs_background": "light"
     },
     "output_type": "display_data"
    }
   ],
   "source": [
    "plt.plot(np.arange(len(tool.iI_force_tar[\"prime_cong\"])), tool.iI_force_tar[\"prime_cong\"], label = \"Prime-Congruent+iI\")\n",
    "#plt.plot(np.arange(len(tool.cI_force[\"target\"])), tool.iC_force[\"target\"], label = \"Prime-Incongruent\")\n",
    "plt.plot(np.arange(len(tool.iI_force_tar[\"prime_incon\"])), tool.iI_force_tar[\"prime_incon\"], label = \"Prime-Incongruent+iI\")\n",
    "plt.legend()\n",
    "plt.ylim([320, 650])\n",
    "plt.show()"
   ]
  },
  {
   "cell_type": "code",
   "execution_count": 7,
   "id": "062a0bd7",
   "metadata": {},
   "outputs": [
    {
     "data": {
      "image/png": "[encoded data removed]",
      "text/plain": [
       "<Figure size 432x288 with 1 Axes>"
      ]
     },
     "metadata": {
      "needs_background": "light"
     },
     "output_type": "display_data"
    },
    {
     "data": {
      "image/png": "[encoded data removed]",
      "text/plain": [
       "<Figure size 432x288 with 1 Axes>"
      ]
     },
     "metadata": {
      "needs_background": "light"
     },
     "output_type": "display_data"
    },
    {
     "data": {
      "image/png": "[encoded data removed]",
      "text/plain": [
       "<Figure size 432x288 with 1 Axes>"
      ]
     },
     "metadata": {
      "needs_background": "light"
     },
     "output_type": "display_data"
    }
   ],
   "source": [
    "tool.plot_distractorON()"
   ]
  },
  {
   "cell_type": "code",
   "execution_count": 8,
   "id": "67b4d9bc",
   "metadata": {},
   "outputs": [
    {
     "data": {
      "image/png": "[encoded data removed]",
      "text/plain": [
       "<Figure size 432x288 with 1 Axes>"
      ]
     },
     "metadata": {
      "needs_background": "light"
     },
     "output_type": "display_data"
    },
    {
     "data": {
      "image/png": "[encoded data removed]",
      "text/plain": [
       "<Figure size 432x288 with 1 Axes>"
      ]
     },
     "metadata": {
      "needs_background": "light"
     },
     "output_type": "display_data"
    },
    {
     "data": {
      "image/png": "[encoded data removed]",
      "text/plain": [
       "<Figure size 432x288 with 1 Axes>"
      ]
     },
     "metadata": {
      "needs_background": "light"
     },
     "output_type": "display_data"
    }
   ],
   "source": [
    "tool.plot_targetON()"
   ]
  },
  {
   "cell_type": "code",
   "execution_count": null,
   "id": "8d3356ff",
   "metadata": {},
   "outputs": [],
   "source": []
  }
 ],
 "metadata": {
  "kernelspec": {
   "display_name": "Python 3.9.7 ('base')",
   "language": "python",
   "name": "python3"
  },
  "language_info": {
   "codemirror_mode": {
    "name": "ipython",
    "version": 3
   },
   "file_extension": ".py",
   "mimetype": "text/x-python",
   "name": "python",
   "nbconvert_exporter": "python",
   "pygments_lexer": "ipython3",
   "version": "3.9.7"
  },
  "vscode": {
   "interpreter": {
    "hash": "f1e220e357445836402dc3051b6e73f8807b0d2d9a8ef58cec3298c934ea7d9a"
   }
  }
 },
 "nbformat": 4,
 "nbformat_minor": 5
}
